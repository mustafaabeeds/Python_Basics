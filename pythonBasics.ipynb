{
 "cells": [
  {
   "cell_type": "code",
   "execution_count": 1,
   "metadata": {},
   "outputs": [
    {
     "name": "stdout",
     "output_type": "stream",
     "text": [
      " welcome to the world of alians\n"
     ]
    }
   ],
   "source": [
    "#testing python\n",
    "print(' welcome to the world of Python')"
   ]
  },
  {
   "cell_type": "code",
   "execution_count": null,
   "metadata": {},
   "outputs": [],
   "source": [
    "# git init\n",
    "# git add README.md\n",
    "# git commit -m \"first commit\"\n",
    "# git branch -M main\n",
    "# git remote add origin https://github.com/mustafaabeeds/Python_Basics.git\n",
    "# git push -u origin main\n",
    "# …or push an existing repository from the command line\n",
    "# git remote add origin https://github.com/mustafaabeeds/Python_Basics.git\n",
    "# git config --global user.name \"[mustafaabeedsm@gmail.com]\"\n",
    "# git branch -M main\n",
    "# git push -u origin main"
   ]
  }
 ],
 "metadata": {
  "kernelspec": {
   "display_name": "base",
   "language": "python",
   "name": "python3"
  },
  "language_info": {
   "codemirror_mode": {
    "name": "ipython",
    "version": 3
   },
   "file_extension": ".py",
   "mimetype": "text/x-python",
   "name": "python",
   "nbconvert_exporter": "python",
   "pygments_lexer": "ipython3",
   "version": "3.8.8"
  },
  "orig_nbformat": 4
 },
 "nbformat": 4,
 "nbformat_minor": 2
}
